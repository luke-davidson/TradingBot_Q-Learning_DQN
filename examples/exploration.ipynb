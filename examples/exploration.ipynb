{
 "cells": [
  {
   "cell_type": "code",
   "execution_count": 9,
   "outputs": [],
   "source": [
    "import pandas as pd\n",
    "from easydict import EasyDict"
   ],
   "metadata": {
    "collapsed": false
   }
  },
  {
   "cell_type": "code",
   "execution_count": 11,
   "metadata": {
    "collapsed": true
   },
   "outputs": [],
   "source": [
    "df = pd.read_csv('DIA.csv', parse_dates=True, index_col='Date')"
   ]
  },
  {
   "cell_type": "code",
   "execution_count": 12,
   "outputs": [
    {
     "data": {
      "text/plain": "                  Open        High         Low       Close   Adj Close  \\\nDate                                                                     \n1998-01-20   77.812500   78.843750   77.406250   78.812500   46.278568   \n1998-01-21   78.093750   78.375000   77.281250   77.843750   45.709694   \n1998-01-22   77.187500   77.859375   76.937500   77.187500   45.324368   \n1998-01-23   77.500000   77.750000   76.312500   77.000000   45.214283   \n1998-01-26   77.375000   77.671875   76.937500   77.312500   45.397751   \n...                ...         ...         ...         ...         ...   \n2022-12-01  346.750000  346.760010  341.690002  344.410004  344.410004   \n2022-12-02  340.859985  345.410004  340.859985  344.739990  344.739990   \n2022-12-05  342.450012  343.309998  339.029999  340.029999  340.029999   \n2022-12-06  339.769989  340.649994  334.720001  336.459991  336.459991   \n2022-12-07  336.140015  338.329987  335.540009  336.440002  336.440002   \n\n             Volume  \nDate                 \n1998-01-20  1744600  \n1998-01-21  1839600  \n1998-01-22  1662600  \n1998-01-23  1693700  \n1998-01-26  1172800  \n...             ...  \n2022-12-01  5325900  \n2022-12-02  3734600  \n2022-12-05  3827200  \n2022-12-06  5516300  \n2022-12-07  3572100  \n\n[6264 rows x 6 columns]",
      "text/html": "<div>\n<style scoped>\n    .dataframe tbody tr th:only-of-type {\n        vertical-align: middle;\n    }\n\n    .dataframe tbody tr th {\n        vertical-align: top;\n    }\n\n    .dataframe thead th {\n        text-align: right;\n    }\n</style>\n<table border=\"1\" class=\"dataframe\">\n  <thead>\n    <tr style=\"text-align: right;\">\n      <th></th>\n      <th>Open</th>\n      <th>High</th>\n      <th>Low</th>\n      <th>Close</th>\n      <th>Adj Close</th>\n      <th>Volume</th>\n    </tr>\n    <tr>\n      <th>Date</th>\n      <th></th>\n      <th></th>\n      <th></th>\n      <th></th>\n      <th></th>\n      <th></th>\n    </tr>\n  </thead>\n  <tbody>\n    <tr>\n      <th>1998-01-20</th>\n      <td>77.812500</td>\n      <td>78.843750</td>\n      <td>77.406250</td>\n      <td>78.812500</td>\n      <td>46.278568</td>\n      <td>1744600</td>\n    </tr>\n    <tr>\n      <th>1998-01-21</th>\n      <td>78.093750</td>\n      <td>78.375000</td>\n      <td>77.281250</td>\n      <td>77.843750</td>\n      <td>45.709694</td>\n      <td>1839600</td>\n    </tr>\n    <tr>\n      <th>1998-01-22</th>\n      <td>77.187500</td>\n      <td>77.859375</td>\n      <td>76.937500</td>\n      <td>77.187500</td>\n      <td>45.324368</td>\n      <td>1662600</td>\n    </tr>\n    <tr>\n      <th>1998-01-23</th>\n      <td>77.500000</td>\n      <td>77.750000</td>\n      <td>76.312500</td>\n      <td>77.000000</td>\n      <td>45.214283</td>\n      <td>1693700</td>\n    </tr>\n    <tr>\n      <th>1998-01-26</th>\n      <td>77.375000</td>\n      <td>77.671875</td>\n      <td>76.937500</td>\n      <td>77.312500</td>\n      <td>45.397751</td>\n      <td>1172800</td>\n    </tr>\n    <tr>\n      <th>...</th>\n      <td>...</td>\n      <td>...</td>\n      <td>...</td>\n      <td>...</td>\n      <td>...</td>\n      <td>...</td>\n    </tr>\n    <tr>\n      <th>2022-12-01</th>\n      <td>346.750000</td>\n      <td>346.760010</td>\n      <td>341.690002</td>\n      <td>344.410004</td>\n      <td>344.410004</td>\n      <td>5325900</td>\n    </tr>\n    <tr>\n      <th>2022-12-02</th>\n      <td>340.859985</td>\n      <td>345.410004</td>\n      <td>340.859985</td>\n      <td>344.739990</td>\n      <td>344.739990</td>\n      <td>3734600</td>\n    </tr>\n    <tr>\n      <th>2022-12-05</th>\n      <td>342.450012</td>\n      <td>343.309998</td>\n      <td>339.029999</td>\n      <td>340.029999</td>\n      <td>340.029999</td>\n      <td>3827200</td>\n    </tr>\n    <tr>\n      <th>2022-12-06</th>\n      <td>339.769989</td>\n      <td>340.649994</td>\n      <td>334.720001</td>\n      <td>336.459991</td>\n      <td>336.459991</td>\n      <td>5516300</td>\n    </tr>\n    <tr>\n      <th>2022-12-07</th>\n      <td>336.140015</td>\n      <td>338.329987</td>\n      <td>335.540009</td>\n      <td>336.440002</td>\n      <td>336.440002</td>\n      <td>3572100</td>\n    </tr>\n  </tbody>\n</table>\n<p>6264 rows × 6 columns</p>\n</div>"
     },
     "execution_count": 12,
     "metadata": {},
     "output_type": "execute_result"
    }
   ],
   "source": [
    "df"
   ],
   "metadata": {
    "collapsed": false
   }
  },
  {
   "cell_type": "code",
   "execution_count": 13,
   "outputs": [
    {
     "data": {
      "text/plain": "Open         2.462100e+02\nHigh         2.467000e+02\nLow          2.458200e+02\nClose        2.462500e+02\nAdj Close    2.230862e+02\nVolume       5.862800e+06\nName: 2017-12-15 00:00:00, dtype: float64"
     },
     "execution_count": 13,
     "metadata": {},
     "output_type": "execute_result"
    }
   ],
   "source": [
    "df.iloc[int(0.8 * len(df))]"
   ],
   "metadata": {
    "collapsed": false
   }
  },
  {
   "cell_type": "code",
   "execution_count": 5,
   "outputs": [],
   "source": [
    "from environment.stocks_env import StocksEnv"
   ],
   "metadata": {
    "collapsed": false
   }
  },
  {
   "cell_type": "code",
   "execution_count": 14,
   "outputs": [],
   "source": [
    "env = StocksEnv(EasyDict({\n",
    "    \"env_id\": 'stocks-dqn-e', \"eps_length\": 200,\n",
    "    \"window_size\": 200, \"train_ratio\": 0.7, 'validation_ratio': 0.15, \"test_ratio\": 0.15,\n",
    "    \"stocks_data_filename\": 'DIA'\n",
    "}))"
   ],
   "metadata": {
    "collapsed": false
   }
  },
  {
   "cell_type": "code",
   "execution_count": 15,
   "outputs": [
    {
     "data": {
      "text/plain": "State(history=array([[-0.4189814 , -0.42181453, -0.4287433 , -0.4102765 , -0.54283416,\n        -0.21590574],\n       [-0.42336747, -0.41791603, -0.43434438, -0.42125076, -0.5456472 ,\n         0.00720705],\n       [-0.40533575, -0.41474864, -0.41851544, -0.3980828 , -0.53408104,\n         0.03617087],\n       ...,\n       [ 0.06226718,  0.04185176,  0.04807241,  0.05918152, -0.20026611,\n         0.02922547],\n       [ 0.07250127,  0.06840956,  0.06000512,  0.08259322, -0.19359568,\n        -0.15081774],\n       [ 0.06933346,  0.07011528,  0.05659582,  0.07552104, -0.19566037,\n         0.1005603 ]], dtype=float32), position_history=[<Position.FLAT: 0>], tick=0.005)"
     },
     "execution_count": 15,
     "metadata": {},
     "output_type": "execute_result"
    }
   ],
   "source": [
    "env.reset()"
   ],
   "metadata": {
    "collapsed": false
   }
  },
  {
   "cell_type": "code",
   "execution_count": 16,
   "outputs": [
    {
     "data": {
      "text/plain": "939.5999999999999"
     },
     "execution_count": 16,
     "metadata": {},
     "output_type": "execute_result"
    }
   ],
   "source": [
    "0.15 * len(df)"
   ],
   "metadata": {
    "collapsed": false
   }
  },
  {
   "cell_type": "code",
   "execution_count": 22,
   "outputs": [
    {
     "data": {
      "text/plain": "5"
     },
     "execution_count": 22,
     "metadata": {},
     "output_type": "execute_result"
    }
   ],
   "source": [
    "env.action_space.n"
   ],
   "metadata": {
    "collapsed": false
   }
  },
  {
   "cell_type": "code",
   "execution_count": null,
   "outputs": [],
   "source": [],
   "metadata": {
    "collapsed": false
   }
  }
 ],
 "metadata": {
  "kernelspec": {
   "display_name": "Python 3",
   "language": "python",
   "name": "python3"
  },
  "language_info": {
   "codemirror_mode": {
    "name": "ipython",
    "version": 2
   },
   "file_extension": ".py",
   "mimetype": "text/x-python",
   "name": "python",
   "nbconvert_exporter": "python",
   "pygments_lexer": "ipython2",
   "version": "2.7.6"
  }
 },
 "nbformat": 4,
 "nbformat_minor": 0
}
