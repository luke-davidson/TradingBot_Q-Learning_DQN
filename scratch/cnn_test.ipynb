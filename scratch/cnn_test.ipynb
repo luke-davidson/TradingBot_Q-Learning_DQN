{
 "cells": [
  {
   "cell_type": "markdown",
   "source": [
    "# I want this network to learn a single moving average"
   ],
   "metadata": {
    "collapsed": false
   }
  },
  {
   "cell_type": "code",
   "execution_count": 13,
   "outputs": [],
   "source": [
    "import numpy as np\n",
    "import torch\n",
    "from torch import nn\n",
    "from torch.nn import Conv2d, Flatten, LazyLinear, Linear, MaxPool2d, ReLU\n"
   ],
   "metadata": {
    "collapsed": false
   }
  },
  {
   "cell_type": "code",
   "execution_count": 642,
   "outputs": [],
   "source": [
    "class DeepQNet(nn.Module):\n",
    "    def __init__(self):\n",
    "        super(DeepQNet, self).__init__()\n",
    "\n",
    "        self.layers = nn.ModuleList()\n",
    "        # self.layers.append(Conv2d(in_channels=1, out_channels=1, kernel_size=(3, 1)))\n",
    "        # self.layers.append(ReLU())\n",
    "        # self.layers.append(MaxPool2d(kernel_size=(3, 1), stride=(3, 1)))\n",
    "\n",
    "        # self.layers.append(Conv2d(in_channels=1, out_channels=1, kernel_size=(3, 1)))\n",
    "        # self.layers.append(ReLU())\n",
    "        # self.layers.append(MaxPool2d(kernel_size=(4, 1), stride=(2, 1)))\n",
    "        #\n",
    "        # self.layers.append(Conv2d(in_channels=1, out_channels=1, kernel_size=(8, 1)))\n",
    "        # self.layers.append(ReLU())\n",
    "        # self.layers.append(MaxPool2d(kernel_size=(4, 1), stride=(2, 1)))\n",
    "        #\n",
    "        # self.layers.append(Conv2d(in_channels=1, out_channels=1, kernel_size=(16, 1)))\n",
    "        # self.layers.append(ReLU())\n",
    "        # self.layers.append(MaxPool2d(kernel_size=(8, 1), stride=(2, 1)))\n",
    "        #\n",
    "        # self.layers.append(Flatten())\n",
    "        # self.layers.append(Linear(in_features=1400, out_features=500))\n",
    "        # self.layers.append(ReLU())\n",
    "        # self.layers.append(LazyLinear(out_features=100))\n",
    "        # self.layers.append(ReLU())\n",
    "        #\n",
    "        self.layers.append(Linear(in_features=1400, out_features=1000))\n",
    "        self.layers.append(ReLU())\n",
    "        # self.layers.append(LazyLinear(out_features=1000))\n",
    "        # self.layers.append(ReLU())\n",
    "        self.layers.append(LazyLinear(out_features=1))\n",
    "\n",
    "        # self.layers.append(Linear(in_features=1400, out_features=500))\n",
    "        # self.layers.append(ReLU())\n",
    "        # self.layers.append(LazyLinear(out_features=250))\n",
    "        # self.layers.append(ReLU())\n",
    "        # self.layers.append(LazyLinear(out_features=250))\n",
    "        # self.layers.append(ReLU())\n",
    "        # self.layers.append(LazyLinear(out_features=1))\n",
    "\n",
    "    def forward(self, x):\n",
    "        assert list(x.size()[1:]) == [200, 7]\n",
    "        # x = x.flatten()\n",
    "        x = x.reshape(-1, 1400)\n",
    "        for idx, layer in enumerate(self.layers):\n",
    "            # print(f'On layer {layer} with input size {x.size()}')\n",
    "            x = layer(x)\n",
    "        return x"
   ],
   "metadata": {
    "collapsed": false
   }
  },
  {
   "cell_type": "code",
   "execution_count": 643,
   "outputs": [],
   "source": [
    "def moving_avg_diff(X):\n",
    "    moving_avg_200 = np.mean(X[:, 0])\n",
    "    moving_avg_50 = np.mean(X[0:-50, 0])\n",
    "    return moving_avg_200 - moving_avg_50"
   ],
   "metadata": {
    "collapsed": false
   }
  },
  {
   "cell_type": "code",
   "execution_count": 645,
   "outputs": [
    {
     "name": "stderr",
     "output_type": "stream",
     "text": [
      "  0%|          | 0/450 [00:00<?, ?it/s]\n"
     ]
    },
    {
     "ename": "AttributeError",
     "evalue": "'tuple' object has no attribute 'shape'",
     "output_type": "error",
     "traceback": [
      "\u001B[0;31m---------------------------------------------------------------------------\u001B[0m",
      "\u001B[0;31mAttributeError\u001B[0m                            Traceback (most recent call last)",
      "Input \u001B[0;32mIn [645]\u001B[0m, in \u001B[0;36m<cell line: 11>\u001B[0;34m()\u001B[0m\n\u001B[1;32m     13\u001B[0m Y \u001B[38;5;241m=\u001B[39m [moving_avg_diff(X)]\n\u001B[1;32m     15\u001B[0m \u001B[38;5;66;03m# pred = model(torch.as_tensor([X], dtype=torch.float32))\u001B[39;00m\n\u001B[0;32m---> 16\u001B[0m pred \u001B[38;5;241m=\u001B[39m \u001B[43mmodel\u001B[49m\u001B[43m(\u001B[49m\u001B[43mtorch\u001B[49m\u001B[38;5;241;43m.\u001B[39;49m\u001B[43mas_tensor\u001B[49m\u001B[43m(\u001B[49m\u001B[43m[\u001B[49m\u001B[43mXs\u001B[49m\u001B[43m[\u001B[49m\u001B[38;5;241;43m0\u001B[39;49m\u001B[43m]\u001B[49m\u001B[43m]\u001B[49m\u001B[43m,\u001B[49m\u001B[43m \u001B[49m\u001B[43mdtype\u001B[49m\u001B[38;5;241;43m=\u001B[39;49m\u001B[43mtorch\u001B[49m\u001B[38;5;241;43m.\u001B[39;49m\u001B[43mfloat32\u001B[49m\u001B[43m)\u001B[49m\u001B[43m)\u001B[49m\n\u001B[1;32m     17\u001B[0m loss \u001B[38;5;241m=\u001B[39m torch\u001B[38;5;241m.\u001B[39mnn\u001B[38;5;241m.\u001B[39mMSELoss()(pred, torch\u001B[38;5;241m.\u001B[39mas_tensor([Ys[\u001B[38;5;241m0\u001B[39m]\u001B[38;5;241m.\u001B[39mreshape(\u001B[38;5;241m-\u001B[39m\u001B[38;5;241m1\u001B[39m, \u001B[38;5;241m1\u001B[39m)], dtype\u001B[38;5;241m=\u001B[39mtorch\u001B[38;5;241m.\u001B[39mfloat32))\n\u001B[1;32m     18\u001B[0m loss\u001B[38;5;241m.\u001B[39mbackward()\n",
      "File \u001B[0;32m~/opt/anaconda3/envs/rl/lib/python3.9/site-packages/torch/nn/modules/module.py:1190\u001B[0m, in \u001B[0;36mModule._call_impl\u001B[0;34m(self, *input, **kwargs)\u001B[0m\n\u001B[1;32m   1186\u001B[0m \u001B[38;5;66;03m# If we don't have any hooks, we want to skip the rest of the logic in\u001B[39;00m\n\u001B[1;32m   1187\u001B[0m \u001B[38;5;66;03m# this function, and just call forward.\u001B[39;00m\n\u001B[1;32m   1188\u001B[0m \u001B[38;5;28;01mif\u001B[39;00m \u001B[38;5;129;01mnot\u001B[39;00m (\u001B[38;5;28mself\u001B[39m\u001B[38;5;241m.\u001B[39m_backward_hooks \u001B[38;5;129;01mor\u001B[39;00m \u001B[38;5;28mself\u001B[39m\u001B[38;5;241m.\u001B[39m_forward_hooks \u001B[38;5;129;01mor\u001B[39;00m \u001B[38;5;28mself\u001B[39m\u001B[38;5;241m.\u001B[39m_forward_pre_hooks \u001B[38;5;129;01mor\u001B[39;00m _global_backward_hooks\n\u001B[1;32m   1189\u001B[0m         \u001B[38;5;129;01mor\u001B[39;00m _global_forward_hooks \u001B[38;5;129;01mor\u001B[39;00m _global_forward_pre_hooks):\n\u001B[0;32m-> 1190\u001B[0m     \u001B[38;5;28;01mreturn\u001B[39;00m \u001B[43mforward_call\u001B[49m\u001B[43m(\u001B[49m\u001B[38;5;241;43m*\u001B[39;49m\u001B[38;5;28;43minput\u001B[39;49m\u001B[43m,\u001B[49m\u001B[43m \u001B[49m\u001B[38;5;241;43m*\u001B[39;49m\u001B[38;5;241;43m*\u001B[39;49m\u001B[43mkwargs\u001B[49m\u001B[43m)\u001B[49m\n\u001B[1;32m   1191\u001B[0m \u001B[38;5;66;03m# Do not call functions when jit is used\u001B[39;00m\n\u001B[1;32m   1192\u001B[0m full_backward_hooks, non_full_backward_hooks \u001B[38;5;241m=\u001B[39m [], []\n",
      "Input \u001B[0;32mIn [642]\u001B[0m, in \u001B[0;36mDeepQNet.forward\u001B[0;34m(self, x)\u001B[0m\n\u001B[1;32m     49\u001B[0m x \u001B[38;5;241m=\u001B[39m x\u001B[38;5;241m.\u001B[39mreshape(\u001B[38;5;241m-\u001B[39m\u001B[38;5;241m1\u001B[39m, \u001B[38;5;241m1400\u001B[39m)\n\u001B[1;32m     50\u001B[0m \u001B[38;5;28;01mfor\u001B[39;00m idx, layer \u001B[38;5;129;01min\u001B[39;00m \u001B[38;5;28menumerate\u001B[39m(\u001B[38;5;28mself\u001B[39m\u001B[38;5;241m.\u001B[39mlayers):\n\u001B[1;32m     51\u001B[0m     \u001B[38;5;66;03m# print(f'On layer {layer} with input size {x.size()}')\u001B[39;00m\n\u001B[0;32m---> 52\u001B[0m     x \u001B[38;5;241m=\u001B[39m \u001B[43mlayer\u001B[49m\u001B[43m(\u001B[49m\u001B[43mx\u001B[49m\u001B[43m)\u001B[49m\n\u001B[1;32m     53\u001B[0m \u001B[38;5;28;01mreturn\u001B[39;00m x\n",
      "File \u001B[0;32m~/opt/anaconda3/envs/rl/lib/python3.9/site-packages/torch/nn/modules/module.py:1197\u001B[0m, in \u001B[0;36mModule._call_impl\u001B[0;34m(self, *input, **kwargs)\u001B[0m\n\u001B[1;32m   1195\u001B[0m \u001B[38;5;28;01mif\u001B[39;00m _global_forward_pre_hooks \u001B[38;5;129;01mor\u001B[39;00m \u001B[38;5;28mself\u001B[39m\u001B[38;5;241m.\u001B[39m_forward_pre_hooks:\n\u001B[1;32m   1196\u001B[0m     \u001B[38;5;28;01mfor\u001B[39;00m hook \u001B[38;5;129;01min\u001B[39;00m (\u001B[38;5;241m*\u001B[39m_global_forward_pre_hooks\u001B[38;5;241m.\u001B[39mvalues(), \u001B[38;5;241m*\u001B[39m\u001B[38;5;28mself\u001B[39m\u001B[38;5;241m.\u001B[39m_forward_pre_hooks\u001B[38;5;241m.\u001B[39mvalues()):\n\u001B[0;32m-> 1197\u001B[0m         result \u001B[38;5;241m=\u001B[39m \u001B[43mhook\u001B[49m\u001B[43m(\u001B[49m\u001B[38;5;28;43mself\u001B[39;49m\u001B[43m,\u001B[49m\u001B[43m \u001B[49m\u001B[38;5;28;43minput\u001B[39;49m\u001B[43m)\u001B[49m\n\u001B[1;32m   1198\u001B[0m         \u001B[38;5;28;01mif\u001B[39;00m result \u001B[38;5;129;01mis\u001B[39;00m \u001B[38;5;129;01mnot\u001B[39;00m \u001B[38;5;28;01mNone\u001B[39;00m:\n\u001B[1;32m   1199\u001B[0m             \u001B[38;5;28;01mif\u001B[39;00m \u001B[38;5;129;01mnot\u001B[39;00m \u001B[38;5;28misinstance\u001B[39m(result, \u001B[38;5;28mtuple\u001B[39m):\n",
      "File \u001B[0;32m~/opt/anaconda3/envs/rl/lib/python3.9/site-packages/torch/nn/modules/lazy.py:250\u001B[0m, in \u001B[0;36mLazyModuleMixin._infer_parameters\u001B[0;34m(self, module, input)\u001B[0m\n\u001B[1;32m    240\u001B[0m \u001B[38;5;28;01mdef\u001B[39;00m \u001B[38;5;21m_infer_parameters\u001B[39m(\u001B[38;5;28mself\u001B[39m: _LazyProtocol, module, \u001B[38;5;28minput\u001B[39m):\n\u001B[1;32m    241\u001B[0m     \u001B[38;5;124mr\u001B[39m\u001B[38;5;124;03m\"\"\"Infers the size and initializes the parameters according to the\u001B[39;00m\n\u001B[1;32m    242\u001B[0m \u001B[38;5;124;03m    provided input batch.\u001B[39;00m\n\u001B[1;32m    243\u001B[0m \u001B[38;5;124;03m    Given a module that contains parameters that were declared inferrable\u001B[39;00m\n\u001B[0;32m   (...)\u001B[0m\n\u001B[1;32m    248\u001B[0m \u001B[38;5;124;03m    to avoid saving statistics or calculating gradients\u001B[39;00m\n\u001B[1;32m    249\u001B[0m \u001B[38;5;124;03m    \"\"\"\u001B[39;00m\n\u001B[0;32m--> 250\u001B[0m     \u001B[43mmodule\u001B[49m\u001B[38;5;241;43m.\u001B[39;49m\u001B[43minitialize_parameters\u001B[49m\u001B[43m(\u001B[49m\u001B[38;5;241;43m*\u001B[39;49m\u001B[38;5;28;43minput\u001B[39;49m\u001B[43m)\u001B[49m\n\u001B[1;32m    251\u001B[0m     \u001B[38;5;28;01mif\u001B[39;00m module\u001B[38;5;241m.\u001B[39mhas_uninitialized_params():\n\u001B[1;32m    252\u001B[0m         \u001B[38;5;28;01mraise\u001B[39;00m \u001B[38;5;167;01mRuntimeError\u001B[39;00m(\u001B[38;5;124m'\u001B[39m\u001B[38;5;124mmodule \u001B[39m\u001B[38;5;132;01m{}\u001B[39;00m\u001B[38;5;124m has not been fully initialized\u001B[39m\u001B[38;5;124m'\u001B[39m\u001B[38;5;241m.\u001B[39mformat(\u001B[38;5;28mself\u001B[39m\u001B[38;5;241m.\u001B[39m_get_name()))\n",
      "File \u001B[0;32m~/opt/anaconda3/envs/rl/lib/python3.9/site-packages/torch/nn/modules/linear.py:259\u001B[0m, in \u001B[0;36mLazyLinear.initialize_parameters\u001B[0;34m(self, input)\u001B[0m\n\u001B[1;32m    257\u001B[0m \u001B[38;5;28;01mif\u001B[39;00m \u001B[38;5;28mself\u001B[39m\u001B[38;5;241m.\u001B[39mhas_uninitialized_params():\n\u001B[1;32m    258\u001B[0m     \u001B[38;5;28;01mwith\u001B[39;00m torch\u001B[38;5;241m.\u001B[39mno_grad():\n\u001B[0;32m--> 259\u001B[0m         \u001B[38;5;28mself\u001B[39m\u001B[38;5;241m.\u001B[39min_features \u001B[38;5;241m=\u001B[39m \u001B[38;5;28;43minput\u001B[39;49m\u001B[38;5;241;43m.\u001B[39;49m\u001B[43mshape\u001B[49m[\u001B[38;5;241m-\u001B[39m\u001B[38;5;241m1\u001B[39m]\n\u001B[1;32m    260\u001B[0m         \u001B[38;5;28mself\u001B[39m\u001B[38;5;241m.\u001B[39mweight\u001B[38;5;241m.\u001B[39mmaterialize((\u001B[38;5;28mself\u001B[39m\u001B[38;5;241m.\u001B[39mout_features, \u001B[38;5;28mself\u001B[39m\u001B[38;5;241m.\u001B[39min_features))\n\u001B[1;32m    261\u001B[0m         \u001B[38;5;28;01mif\u001B[39;00m \u001B[38;5;28mself\u001B[39m\u001B[38;5;241m.\u001B[39mbias \u001B[38;5;129;01mis\u001B[39;00m \u001B[38;5;129;01mnot\u001B[39;00m \u001B[38;5;28;01mNone\u001B[39;00m:\n",
      "\u001B[0;31mAttributeError\u001B[0m: 'tuple' object has no attribute 'shape'"
     ]
    }
   ],
   "source": [
    "import tqdm\n",
    "\n",
    "model = DeepQNet()\n",
    "# optimizer = torch.optim.Adam(params=model.parameters())\n",
    "optimizer = torch.optim.SGD(params=model.parameters(), lr=0.01)\n",
    "\n",
    "Xs = np.random.random(size=(2000, 200, 7)) * 10 + np.random.randint(-5, 5)\n",
    "Ys = np.array([moving_avg_diff(x) for x in Xs])\n",
    "losses = []\n",
    "display = tqdm.trange(450)\n",
    "for train_iter in display:\n",
    "    X = Xs[train_iter % len(Xs)]\n",
    "    Y = [moving_avg_diff(X)]\n",
    "\n",
    "    # pred = model(torch.as_tensor([X], dtype=torch.float32))\n",
    "    pred = model(torch.as_tensor([Xs[0]], dtype=torch.float32))\n",
    "    loss = torch.nn.MSELoss()(pred, torch.as_tensor([Ys[0].reshape(-1, 1)], dtype=torch.float32))\n",
    "    loss.backward()\n",
    "    losses.append(loss.item())\n",
    "\n",
    "    optimizer.step()\n",
    "    model.zero_grad()\n",
    "\n",
    "    display.set_postfix_str(f'Loss: {loss.item():.5}')"
   ],
   "metadata": {
    "collapsed": false
   }
  },
  {
   "cell_type": "code",
   "execution_count": 641,
   "outputs": [
    {
     "data": {
      "text/plain": "<matplotlib.legend.Legend at 0x7f88190d68b0>"
     },
     "execution_count": 641,
     "metadata": {},
     "output_type": "execute_result"
    },
    {
     "data": {
      "text/plain": "<Figure size 640x480 with 1 Axes>",
      "image/png": "[encoded data removed]"
     },
     "metadata": {},
     "output_type": "display_data"
    }
   ],
   "source": [
    "from matplotlib import pyplot as plt\n",
    "def moving_average(a, n=3):\n",
    "    ret = np.cumsum(a, dtype=float)\n",
    "    ret[n:] = ret[n:] - ret[:-n]\n",
    "    return ret[n - 1:] / n\n",
    "\n",
    "avgs = moving_average(losses, n=100)\n",
    "plt.plot(range(len(losses)), losses, c='r', label='Loss')\n",
    "plt.plot(range(len(avgs)), avgs, c='g', label='Moving average')\n",
    "plt.ylim((0, 5))\n",
    "plt.legend()"
   ],
   "metadata": {
    "collapsed": false
   }
  },
  {
   "cell_type": "code",
   "execution_count": 633,
   "outputs": [
    {
     "name": "stdout",
     "output_type": "stream",
     "text": [
      "Predicted: 0.026406148448586464\n",
      "True: 0.08845803864018986\n"
     ]
    }
   ],
   "source": [
    "x = Xs[1299]\n",
    "# x = np.random.random(size=(200, 7)) * 10 + np.random.randint(-5, 5)\n",
    "\n",
    "# pred = model(torch.as_tensor([x.flatten()], dtype=torch.float32))\n",
    "pred = model(torch.as_tensor([x], dtype=torch.float32))\n",
    "gt = moving_avg_diff(x)\n",
    "print(f'Predicted: {pred.item()}')\n",
    "print(f'True: {gt}')"
   ],
   "metadata": {
    "collapsed": false
   }
  },
  {
   "cell_type": "code",
   "execution_count": 486,
   "outputs": [
    {
     "name": "stderr",
     "output_type": "stream",
     "text": [
      "/Users/marc/opt/anaconda3/envs/rl/lib/python3.9/site-packages/torch/nn/modules/lazy.py:180: UserWarning: Lazy modules are a new feature under heavy development so changes to the API or functionality can happen at any moment.\n",
      "  warnings.warn('Lazy modules are a new feature under heavy development '\n",
      "100%|██████████| 2000/2000 [00:16<00:00, 121.09it/s, Loss: 0.005845]  \n"
     ]
    }
   ],
   "source": [
    "import tqdm\n",
    "\n",
    "model = DeepQNet()\n",
    "optimizer = torch.optim.Adam(params=model.parameters(), lr=0.01)\n",
    "\n",
    "n_accum = 1\n",
    "\n",
    "losses = []\n",
    "display = tqdm.trange(2000)\n",
    "for train_iter in display:\n",
    "    X = np.random.random(size=(200, 7)) * 10 + np.random.randint(-5, 5)\n",
    "\n",
    "\n",
    "    pred = model(torch.as_tensor([X.flatten()], dtype=torch.float32))\n",
    "    Y = [moving_avg_diff(X)]\n",
    "    loss = torch.nn.MSELoss()(pred, torch.as_tensor([Y], dtype=torch.float32))\n",
    "    # loss = torch.nn.MSELoss()(pred, torch.as_tensor([Y, 0, 0, 0, 0], dtype=torch.float32))\n",
    "    loss /= n_accum\n",
    "    loss.backward()\n",
    "    losses.append(loss.item())\n",
    "\n",
    "    if train_iter % n_accum == 0:\n",
    "        optimizer.step()\n",
    "        model.zero_grad()\n",
    "\n",
    "    display.set_postfix_str(f'Loss: {loss.item():.5}')\n",
    "    # break\n"
   ],
   "metadata": {
    "collapsed": false
   }
  }
 ],
 "metadata": {
  "kernelspec": {
   "display_name": "Python 3",
   "language": "python",
   "name": "python3"
  },
  "language_info": {
   "codemirror_mode": {
    "name": "ipython",
    "version": 2
   },
   "file_extension": ".py",
   "mimetype": "text/x-python",
   "name": "python",
   "nbconvert_exporter": "python",
   "pygments_lexer": "ipython2",
   "version": "2.7.6"
  }
 },
 "nbformat": 4,
 "nbformat_minor": 0
}
